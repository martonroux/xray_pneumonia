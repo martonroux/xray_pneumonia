{
 "cells": [
  {
   "cell_type": "markdown",
   "source": [
    "# Testing file for functions creating the Dataset\n",
    "Functions in this notebook were moved to static_code folder once they were tested."
   ],
   "metadata": {
    "collapsed": false
   },
   "id": "8d47d2b934a68907"
  },
  {
   "cell_type": "code",
   "execution_count": 1,
   "id": "initial_id",
   "metadata": {
    "collapsed": true,
    "ExecuteTime": {
     "end_time": "2024-02-26T19:36:07.031980Z",
     "start_time": "2024-02-26T19:36:04.244856Z"
    }
   },
   "outputs": [
    {
     "name": "stdout",
     "output_type": "stream",
     "text": [
      "Intel MKL WARNING: Support of Intel(R) Streaming SIMD Extensions 4.2 (Intel(R) SSE4.2) enabled only processors has been deprecated. Intel oneAPI Math Kernel Library 2025.0 will require Intel(R) Advanced Vector Extensions (Intel(R) AVX) instructions.\n",
      "Intel MKL WARNING: Support of Intel(R) Streaming SIMD Extensions 4.2 (Intel(R) SSE4.2) enabled only processors has been deprecated. Intel oneAPI Math Kernel Library 2025.0 will require Intel(R) Advanced Vector Extensions (Intel(R) AVX) instructions.\n"
     ]
    }
   ],
   "source": [
    "import os\n",
    "import cv2\n",
    "import torchvision.transforms as transforms\n",
    "import math"
   ]
  },
  {
   "cell_type": "code",
   "outputs": [],
   "source": [
    "normal_dir: str = r'../chest_xray/test/NORMAL'\n",
    "pneumo_dir: str = r'../chest_xray/test/PNEUMONIA'\n",
    "\n",
    "assert os.path.exists(normal_dir) and os.path.isdir(normal_dir), \"Normal dir isn't found or isn't a directory\"\n",
    "assert os.path.exists(pneumo_dir) and os.path.isdir(pneumo_dir), \"Pneumonia dir isn't found or isn't a directory\""
   ],
   "metadata": {
    "collapsed": false,
    "ExecuteTime": {
     "end_time": "2024-02-26T19:36:07.035854Z",
     "start_time": "2024-02-26T19:36:07.032581Z"
    }
   },
   "id": "8b771002f3b76a23",
   "execution_count": 2
  },
  {
   "cell_type": "code",
   "outputs": [],
   "source": [
    "def open_preprocess_photos(dir: str, transform, img_size: tuple) -> list:\n",
    "    img_list = list(map(lambda x: os.path.join(dir, x), os.listdir(dir)))  # Open given directory and list its contents\n",
    "    img_list.sort()\n",
    "    images = []  # This list will store the preprocessed images to return\n",
    "\n",
    "    # Preprocess from pre_process_1.ipynb\n",
    "    for img in img_list:\n",
    "        try:\n",
    "            img_data = cv2.imread(img)\n",
    "        except Exception:\n",
    "            print(f\"Error occured opening {img} file\")\n",
    "            continue\n",
    "        shape = img_data.shape\n",
    "        \n",
    "        if shape[0] > shape[1]:  # If axis 0 is bigger than axis 1, we crop the image according to axis 0\n",
    "            diff = shape[0] - shape[1]\n",
    "            padding = int(math.ceil(diff / 2))\n",
    "            img_data = img_data[padding : shape[0] - padding, :, :]  # We center the image according to axis 0, to make it square\n",
    "        else:  # If axis 1 is bigger than axis 0, we crop the image according to axis 1\n",
    "            diff = shape[1] - shape[0]\n",
    "            padding = int(math.ceil(diff / 2))\n",
    "            img_data = img_data[:, padding : shape[1] - padding, :]  # We center the image according to axis 1, to make it square\n",
    "\n",
    "        img_data = cv2.resize(img_data, img_size)  # Resize image according to given size ((224, 224), for example)\n",
    "        img_data = transform(img_data)  # Transform the image using the Pytorch transform function given as parameter\n",
    "        images.append(img_data)\n",
    "    \n",
    "    return images"
   ],
   "metadata": {
    "collapsed": false,
    "ExecuteTime": {
     "end_time": "2024-02-26T19:36:07.040434Z",
     "start_time": "2024-02-26T19:36:07.038289Z"
    }
   },
   "id": "1d087b094bdbb128",
   "execution_count": 3
  },
  {
   "cell_type": "code",
   "outputs": [],
   "source": [
    "# Basic normalization of image using Pytorch (converts to Tensor and normalizes pixel values)\n",
    "normalize = transforms.Normalize(mean=[0.485, 0.456, 0.406], std=[0.229, 0.224, 0.225])\n",
    "\n",
    "transform = transforms.Compose([\n",
    "    transforms.ToTensor(),\n",
    "    normalize,\n",
    "])"
   ],
   "metadata": {
    "collapsed": false,
    "ExecuteTime": {
     "end_time": "2024-02-26T19:36:07.044812Z",
     "start_time": "2024-02-26T19:36:07.041357Z"
    }
   },
   "id": "e0fc990866aa6fcf",
   "execution_count": 4
  },
  {
   "cell_type": "code",
   "outputs": [],
   "source": [
    "normal_images = open_preprocess_photos(normal_dir, transform, (224, 224))"
   ],
   "metadata": {
    "collapsed": false,
    "ExecuteTime": {
     "end_time": "2024-02-26T19:38:29.642836Z",
     "start_time": "2024-02-26T19:38:27.575355Z"
    }
   },
   "id": "f5100ee338659ed4",
   "execution_count": 9
  },
  {
   "cell_type": "code",
   "outputs": [],
   "source": [
    "pneumo_images = open_preprocess_photos(pneumo_dir, transform, (224, 224))"
   ],
   "metadata": {
    "collapsed": false,
    "ExecuteTime": {
     "end_time": "2024-02-26T19:38:30.905677Z",
     "start_time": "2024-02-26T19:38:29.643352Z"
    }
   },
   "id": "db458de02b0d5d8d",
   "execution_count": 10
  },
  {
   "cell_type": "code",
   "outputs": [],
   "source": [
    "from static_code.Dataset import Dataset"
   ],
   "metadata": {
    "collapsed": false,
    "ExecuteTime": {
     "end_time": "2024-02-26T19:38:31.578762Z",
     "start_time": "2024-02-26T19:38:31.576103Z"
    }
   },
   "id": "1568453780e16a46",
   "execution_count": 11
  },
  {
   "cell_type": "code",
   "outputs": [],
   "source": [
    "dataset = Dataset(normal=normal_images, pneumonia=pneumo_images, normal_label=0, pneumonia_label=1, batch_size=128)"
   ],
   "metadata": {
    "collapsed": false,
    "ExecuteTime": {
     "end_time": "2024-02-26T19:38:31.853749Z",
     "start_time": "2024-02-26T19:38:31.848448Z"
    }
   },
   "id": "a285e89ab06b54c4",
   "execution_count": 12
  },
  {
   "cell_type": "code",
   "outputs": [
    {
     "name": "stdout",
     "output_type": "stream",
     "text": [
      "X: 128 y: 128\n",
      "X: 128 y: 128\n",
      "X: 128 y: 128\n",
      "X: 128 y: 128\n",
      "X: 112 y: 112\n"
     ]
    }
   ],
   "source": [
    "for (X, y) in dataset:\n",
    "    print(\"X:\", len(X), \"y:\", len(y))"
   ],
   "metadata": {
    "collapsed": false,
    "ExecuteTime": {
     "end_time": "2024-02-26T19:39:17.043868Z",
     "start_time": "2024-02-26T19:39:17.040186Z"
    }
   },
   "id": "20023523a659d7c3",
   "execution_count": 16
  },
  {
   "cell_type": "code",
   "outputs": [],
   "source": [],
   "metadata": {
    "collapsed": false
   },
   "id": "df4a3ae973ac849a"
  }
 ],
 "metadata": {
  "kernelspec": {
   "display_name": "Python 3",
   "language": "python",
   "name": "python3"
  },
  "language_info": {
   "codemirror_mode": {
    "name": "ipython",
    "version": 2
   },
   "file_extension": ".py",
   "mimetype": "text/x-python",
   "name": "python",
   "nbconvert_exporter": "python",
   "pygments_lexer": "ipython2",
   "version": "2.7.6"
  }
 },
 "nbformat": 4,
 "nbformat_minor": 5
}
