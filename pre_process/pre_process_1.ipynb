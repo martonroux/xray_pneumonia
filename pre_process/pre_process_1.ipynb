{
 "cells": [
  {
   "cell_type": "code",
   "execution_count": 1,
   "id": "initial_id",
   "metadata": {
    "collapsed": true,
    "ExecuteTime": {
     "end_time": "2024-02-22T14:41:49.637350Z",
     "start_time": "2024-02-22T14:41:48.851965Z"
    }
   },
   "outputs": [
    {
     "name": "stdout",
     "output_type": "stream",
     "text": [
      "Intel MKL WARNING: Support of Intel(R) Streaming SIMD Extensions 4.2 (Intel(R) SSE4.2) enabled only processors has been deprecated. Intel oneAPI Math Kernel Library 2025.0 will require Intel(R) Advanced Vector Extensions (Intel(R) AVX) instructions.\n",
      "Intel MKL WARNING: Support of Intel(R) Streaming SIMD Extensions 4.2 (Intel(R) SSE4.2) enabled only processors has been deprecated. Intel oneAPI Math Kernel Library 2025.0 will require Intel(R) Advanced Vector Extensions (Intel(R) AVX) instructions.\n"
     ]
    }
   ],
   "source": [
    "import math\n",
    "import os\n",
    "from PIL import Image\n",
    "import cv2"
   ]
  },
  {
   "cell_type": "code",
   "outputs": [],
   "source": [
    "data_dir = r'../chest_xray/test/NORMAL/'\n",
    "\n",
    "assert os.path.exists(data_dir) and os.path.isdir(data_dir), \"data dir does not exist\""
   ],
   "metadata": {
    "collapsed": false,
    "ExecuteTime": {
     "end_time": "2024-02-22T14:41:49.639865Z",
     "start_time": "2024-02-22T14:41:49.636571Z"
    }
   },
   "id": "51ea1c221a8186f4",
   "execution_count": 2
  },
  {
   "cell_type": "code",
   "outputs": [],
   "source": [
    "img_list = os.listdir(data_dir)\n",
    "img_list = list(map(lambda path: os.path.join(data_dir, path), img_list))"
   ],
   "metadata": {
    "collapsed": false,
    "ExecuteTime": {
     "end_time": "2024-02-22T14:41:49.716375Z",
     "start_time": "2024-02-22T14:41:49.712776Z"
    }
   },
   "id": "8cee35f08ebc7937",
   "execution_count": 3
  },
  {
   "cell_type": "code",
   "outputs": [],
   "source": [
    "img_list.sort()"
   ],
   "metadata": {
    "collapsed": false,
    "ExecuteTime": {
     "end_time": "2024-02-22T14:41:50.264889Z",
     "start_time": "2024-02-22T14:41:50.259067Z"
    }
   },
   "id": "8bd30cc9e9239bba",
   "execution_count": 4
  },
  {
   "cell_type": "markdown",
   "source": [
    "# First step: fix aspect ratio\n",
    "\n",
    "We need square images. Resolution does not matter, images will be cropped later depending on the models input"
   ],
   "metadata": {
    "collapsed": false
   },
   "id": "e04a81927a731814"
  },
  {
   "cell_type": "code",
   "outputs": [],
   "source": [
    "images = []"
   ],
   "metadata": {
    "collapsed": false,
    "ExecuteTime": {
     "end_time": "2024-02-22T14:49:14.530472Z",
     "start_time": "2024-02-22T14:49:14.526586Z"
    }
   },
   "id": "bfd920d324158fc3",
   "execution_count": 8
  },
  {
   "cell_type": "code",
   "outputs": [
    {
     "name": "stdout",
     "output_type": "stream",
     "text": [
      "25\n",
      "58\n",
      "22\n",
      "98\n"
     ]
    }
   ],
   "source": [
    "for img in img_list:\n",
    "    img_data = cv2.imread(img)\n",
    "    shape = img_data.shape\n",
    "    \n",
    "    if shape[0] > shape[1]:\n",
    "        diff = shape[0] - shape[1]\n",
    "        padding = int(math.ceil(diff / 2))\n",
    "        img_data = img_data[padding : shape[0] - padding, :, :]\n",
    "    else:\n",
    "        diff = shape[1] - shape[0]\n",
    "        padding = int(math.ceil(diff / 2))\n",
    "        img_data = img_data[:, padding : shape[1] - padding, :]\n",
    "    images.append(img_data)"
   ],
   "metadata": {
    "collapsed": false,
    "ExecuteTime": {
     "end_time": "2024-02-22T14:49:24.052014Z",
     "start_time": "2024-02-22T14:49:21.882820Z"
    }
   },
   "id": "35ad2fd526e33f08",
   "execution_count": 9
  },
  {
   "cell_type": "code",
   "outputs": [
    {
     "data": {
      "text/plain": "array([[[ 30,  30,  30],\n        [ 31,  31,  31],\n        [ 25,  25,  25],\n        ...,\n        [ 32,  32,  32],\n        [ 30,  30,  30],\n        [ 27,  27,  27]],\n\n       [[ 33,  33,  33],\n        [ 34,  34,  34],\n        [ 26,  26,  26],\n        ...,\n        [ 30,  30,  30],\n        [ 28,  28,  28],\n        [ 26,  26,  26]],\n\n       [[ 29,  29,  29],\n        [ 30,  30,  30],\n        [ 27,  27,  27],\n        ...,\n        [ 28,  28,  28],\n        [ 27,  27,  27],\n        [ 25,  25,  25]],\n\n       ...,\n\n       [[ 64,  64,  64],\n        [ 65,  65,  65],\n        [ 69,  69,  69],\n        ...,\n        [153, 153, 153],\n        [156, 156, 156],\n        [161, 161, 161]],\n\n       [[ 62,  62,  62],\n        [ 61,  61,  61],\n        [ 68,  68,  68],\n        ...,\n        [145, 145, 145],\n        [149, 149, 149],\n        [155, 155, 155]],\n\n       [[ 59,  59,  59],\n        [ 57,  57,  57],\n        [ 65,  65,  65],\n        ...,\n        [138, 138, 138],\n        [144, 144, 144],\n        [152, 152, 152]]], dtype=uint8)"
     },
     "execution_count": 11,
     "metadata": {},
     "output_type": "execute_result"
    }
   ],
   "source": [],
   "metadata": {
    "collapsed": false,
    "ExecuteTime": {
     "end_time": "2024-02-22T14:49:36.289816Z",
     "start_time": "2024-02-22T14:49:36.286593Z"
    }
   },
   "id": "88164b390f13b3d2",
   "execution_count": 11
  },
  {
   "cell_type": "code",
   "outputs": [],
   "source": [],
   "metadata": {
    "collapsed": false
   },
   "id": "6616053c9ed05beb"
  }
 ],
 "metadata": {
  "kernelspec": {
   "display_name": "Python 3",
   "language": "python",
   "name": "python3"
  },
  "language_info": {
   "codemirror_mode": {
    "name": "ipython",
    "version": 2
   },
   "file_extension": ".py",
   "mimetype": "text/x-python",
   "name": "python",
   "nbconvert_exporter": "python",
   "pygments_lexer": "ipython2",
   "version": "2.7.6"
  }
 },
 "nbformat": 4,
 "nbformat_minor": 5
}
