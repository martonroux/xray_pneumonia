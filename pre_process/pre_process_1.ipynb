{
 "cells": [
  {
   "cell_type": "code",
   "execution_count": 1,
   "id": "initial_id",
   "metadata": {
    "collapsed": true,
    "ExecuteTime": {
     "end_time": "2024-02-26T18:46:46.121546Z",
     "start_time": "2024-02-26T18:46:44.582313Z"
    }
   },
   "outputs": [
    {
     "name": "stdout",
     "output_type": "stream",
     "text": [
      "Intel MKL WARNING: Support of Intel(R) Streaming SIMD Extensions 4.2 (Intel(R) SSE4.2) enabled only processors has been deprecated. Intel oneAPI Math Kernel Library 2025.0 will require Intel(R) Advanced Vector Extensions (Intel(R) AVX) instructions.\n",
      "Intel MKL WARNING: Support of Intel(R) Streaming SIMD Extensions 4.2 (Intel(R) SSE4.2) enabled only processors has been deprecated. Intel oneAPI Math Kernel Library 2025.0 will require Intel(R) Advanced Vector Extensions (Intel(R) AVX) instructions.\n"
     ]
    }
   ],
   "source": [
    "import math\n",
    "import os\n",
    "import cv2\n",
    "import torchvision.transforms as transforms"
   ]
  },
  {
   "cell_type": "code",
   "outputs": [],
   "source": [
    "data_dir = r'../chest_xray/test/NORMAL/'\n",
    "\n",
    "assert os.path.exists(data_dir) and os.path.isdir(data_dir), \"data dir does not exist\""
   ],
   "metadata": {
    "collapsed": false,
    "ExecuteTime": {
     "end_time": "2024-02-26T18:46:46.124764Z",
     "start_time": "2024-02-26T18:46:46.122305Z"
    }
   },
   "id": "51ea1c221a8186f4",
   "execution_count": 2
  },
  {
   "cell_type": "code",
   "outputs": [],
   "source": [
    "img_list = os.listdir(data_dir)\n",
    "img_list = list(map(lambda path: os.path.join(data_dir, path), img_list))"
   ],
   "metadata": {
    "collapsed": false,
    "ExecuteTime": {
     "end_time": "2024-02-26T18:46:46.130165Z",
     "start_time": "2024-02-26T18:46:46.125453Z"
    }
   },
   "id": "8cee35f08ebc7937",
   "execution_count": 3
  },
  {
   "cell_type": "code",
   "outputs": [],
   "source": [
    "img_list.sort()"
   ],
   "metadata": {
    "collapsed": false,
    "ExecuteTime": {
     "end_time": "2024-02-26T18:46:46.132908Z",
     "start_time": "2024-02-26T18:46:46.130559Z"
    }
   },
   "id": "8bd30cc9e9239bba",
   "execution_count": 4
  },
  {
   "cell_type": "markdown",
   "source": [
    "# First step: fix aspect ratio\n",
    "\n",
    "We need square images. Resolution does not matter, images will be cropped later depending on the models input"
   ],
   "metadata": {
    "collapsed": false
   },
   "id": "e04a81927a731814"
  },
  {
   "cell_type": "code",
   "outputs": [],
   "source": [
    "images = []"
   ],
   "metadata": {
    "collapsed": false,
    "ExecuteTime": {
     "end_time": "2024-02-26T18:46:46.135669Z",
     "start_time": "2024-02-26T18:46:46.133042Z"
    }
   },
   "id": "bfd920d324158fc3",
   "execution_count": 5
  },
  {
   "cell_type": "code",
   "outputs": [],
   "source": [
    "for img in img_list:\n",
    "    img_data = cv2.imread(img)\n",
    "    shape = img_data.shape\n",
    "    \n",
    "    if shape[0] > shape[1]:\n",
    "        diff = shape[0] - shape[1]\n",
    "        padding = int(math.ceil(diff / 2))\n",
    "        img_data = img_data[padding : shape[0] - padding, :, :]\n",
    "    else:\n",
    "        diff = shape[1] - shape[0]\n",
    "        padding = int(math.ceil(diff / 2))\n",
    "        img_data = img_data[:, padding : shape[1] - padding, :]\n",
    "    img_data = cv2.resize(img_data, (224, 224))\n",
    "    images.append(img_data)\n",
    "\n",
    "normalize = transforms.Normalize(mean=[0.485, 0.456, 0.406], std=[0.229, 0.224, 0.225])\n",
    "\n",
    "transform = transforms.Compose([\n",
    "    transforms.ToTensor(),\n",
    "    normalize,\n",
    "])\n",
    "\n",
    "dataset = []\n",
    "\n",
    "for img in images:\n",
    "  dataset.append(transform(img))"
   ],
   "metadata": {
    "collapsed": false,
    "ExecuteTime": {
     "end_time": "2024-02-26T18:46:48.215909Z",
     "start_time": "2024-02-26T18:46:46.269593Z"
    }
   },
   "id": "35ad2fd526e33f08",
   "execution_count": 6
  },
  {
   "cell_type": "code",
   "outputs": [],
   "source": [],
   "metadata": {
    "collapsed": false
   },
   "id": "e1c3b286db220213"
  }
 ],
 "metadata": {
  "kernelspec": {
   "display_name": "Python 3",
   "language": "python",
   "name": "python3"
  },
  "language_info": {
   "codemirror_mode": {
    "name": "ipython",
    "version": 2
   },
   "file_extension": ".py",
   "mimetype": "text/x-python",
   "name": "python",
   "nbconvert_exporter": "python",
   "pygments_lexer": "ipython2",
   "version": "2.7.6"
  }
 },
 "nbformat": 4,
 "nbformat_minor": 5
}
