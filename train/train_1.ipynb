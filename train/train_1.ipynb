{
  "cells": [
    {
      "cell_type": "markdown",
      "source": [
        "# First test\n",
        "\n",
        "In this file, we do not apply any transformations to the data. We only rescale images and pass them through a pretrained CNN model.\n",
        "The objective is to determine whether a pretrained model is already capable of finding relevant information in these images, without transforming them, and in 224x224."
      ],
      "metadata": {
        "collapsed": false,
        "id": "b603c5bd69f12647"
      },
      "id": "b603c5bd69f12647"
    },
    {
      "cell_type": "markdown",
      "source": [
        "## Import Dataset from Kaggle"
      ],
      "metadata": {
        "id": "dy_KZ82pbrwJ"
      },
      "id": "dy_KZ82pbrwJ"
    },
    {
      "cell_type": "code",
      "source": [
        "! pip install -q kaggle"
      ],
      "metadata": {
        "id": "vrSGarVrZyNQ"
      },
      "id": "vrSGarVrZyNQ",
      "execution_count": 2,
      "outputs": []
    },
    {
      "cell_type": "code",
      "source": [
        "from google.colab import files"
      ],
      "metadata": {
        "id": "BairTiGVZ0Sx"
      },
      "id": "BairTiGVZ0Sx",
      "execution_count": 3,
      "outputs": []
    },
    {
      "cell_type": "code",
      "source": [
        "files.upload()"
      ],
      "metadata": {
        "id": "cG5pUPSlZ4wJ"
      },
      "id": "cG5pUPSlZ4wJ",
      "execution_count": null,
      "outputs": []
    },
    {
      "cell_type": "code",
      "source": [
        "! mkdir ~/.kaggle"
      ],
      "metadata": {
        "id": "BeASqa7BaHh9"
      },
      "id": "BeASqa7BaHh9",
      "execution_count": 6,
      "outputs": []
    },
    {
      "cell_type": "code",
      "source": [
        "! cp kaggle.json ~/.kaggle/"
      ],
      "metadata": {
        "id": "7X_0tCTvaJuX"
      },
      "id": "7X_0tCTvaJuX",
      "execution_count": 7,
      "outputs": []
    },
    {
      "cell_type": "code",
      "source": [
        "! chmod 600 ~/.kaggle/kaggle.json"
      ],
      "metadata": {
        "id": "ZDd_MCbvaZk6"
      },
      "id": "ZDd_MCbvaZk6",
      "execution_count": 8,
      "outputs": []
    },
    {
      "cell_type": "code",
      "source": [
        "! kaggle datasets download -d paultimothymooney/chest-xray-pneumonia"
      ],
      "metadata": {
        "colab": {
          "base_uri": "https://localhost:8080/"
        },
        "id": "IaTimo2YarUy",
        "outputId": "c29bcc05-862a-4ef9-c5e4-fca22aa564de"
      },
      "id": "IaTimo2YarUy",
      "execution_count": 9,
      "outputs": [
        {
          "output_type": "stream",
          "name": "stdout",
          "text": [
            "Downloading chest-xray-pneumonia.zip to /content\n",
            "100% 2.29G/2.29G [00:55<00:00, 45.3MB/s]\n",
            "100% 2.29G/2.29G [00:55<00:00, 44.1MB/s]\n"
          ]
        }
      ]
    },
    {
      "cell_type": "code",
      "source": [
        "! unzip chest-xray-pneumonia.zip -d data/"
      ],
      "metadata": {
        "id": "m3Ou5AWBbAQX"
      },
      "id": "m3Ou5AWBbAQX",
      "execution_count": null,
      "outputs": []
    },
    {
      "cell_type": "markdown",
      "source": [
        "## Load model"
      ],
      "metadata": {
        "id": "JPydo_twbu-C"
      },
      "id": "JPydo_twbu-C"
    },
    {
      "cell_type": "code",
      "execution_count": 1,
      "id": "initial_id",
      "metadata": {
        "collapsed": true,
        "ExecuteTime": {
          "end_time": "2024-02-22T14:55:38.201949Z",
          "start_time": "2024-02-22T14:55:38.198214Z"
        },
        "id": "initial_id"
      },
      "outputs": [],
      "source": [
        "from torchvision.models import resnet34, ResNet34_Weights\n",
        "import torch"
      ]
    },
    {
      "cell_type": "code",
      "outputs": [],
      "source": [
        "pretrained = resnet34(weights=ResNet34_Weights.IMAGENET1K_V1)"
      ],
      "metadata": {
        "ExecuteTime": {
          "end_time": "2024-02-22T14:56:31.555413Z",
          "start_time": "2024-02-22T14:55:59.871139Z"
        },
        "id": "9e49866fec32f447"
      },
      "id": "9e49866fec32f447",
      "execution_count": 2
    },
    {
      "cell_type": "code",
      "outputs": [],
      "source": [
        "pretrained.fc = torch.nn.Identity()\n",
        "pretrained.avgpool = torch.nn.Identity()"
      ],
      "metadata": {
        "ExecuteTime": {
          "end_time": "2024-02-22T14:56:49.868832Z",
          "start_time": "2024-02-22T14:56:49.865367Z"
        },
        "id": "3986ae0d99e82749"
      },
      "id": "3986ae0d99e82749",
      "execution_count": 3
    },
    {
      "cell_type": "code",
      "outputs": [],
      "source": [
        "class Model(torch.nn.Module):\n",
        "    def __init__(self, pretrained):\n",
        "        super(Model, self).__init__()\n",
        "        self.pretrained = pretrained\n",
        "        self.linear1 = torch.nn.Linear(25088, 10000)\n",
        "        self.linear2 = torch.nn.Linear(10000, 1)\n",
        "        self.sigmoid = torch.nn.Sigmoid()\n",
        "\n",
        "    def forward(self, x):\n",
        "        x = self.pretrained(x)\n",
        "        x = self.linear1(x)\n",
        "        x = self.linear2(x)\n",
        "        x = self.sigmoid(x)\n",
        "        return x"
      ],
      "metadata": {
        "id": "bc1172f3102d9723"
      },
      "id": "bc1172f3102d9723",
      "execution_count": 4
    },
    {
      "cell_type": "code",
      "outputs": [],
      "source": [
        "model = Model(pretrained)"
      ],
      "metadata": {
        "ExecuteTime": {
          "end_time": "2024-02-22T14:59:37.081173Z",
          "start_time": "2024-02-22T14:59:37.076418Z"
        },
        "id": "f9b07e53f2ab77b2"
      },
      "id": "f9b07e53f2ab77b2",
      "execution_count": 5
    },
    {
      "cell_type": "code",
      "outputs": [],
      "source": [
        "device = torch.device(\"cuda:0\" if torch.cuda.is_available() else \"cpu\")"
      ],
      "metadata": {
        "id": "b67892757aa2e826"
      },
      "id": "b67892757aa2e826",
      "execution_count": 6
    },
    {
      "cell_type": "code",
      "source": [
        "model = model.to(device)"
      ],
      "metadata": {
        "id": "Pset2Yj0cUwW"
      },
      "id": "Pset2Yj0cUwW",
      "execution_count": 7,
      "outputs": []
    },
    {
      "cell_type": "markdown",
      "source": [
        "## Load Data and Preprocess\n",
        "\n",
        "\n",
        "In this test, the only preprocessing applied is a basic resize to (224, 224, 3), and a normalization using Pytorch Transforms.  \n",
        "We do not modify the images. Aspect ratio is taken into account during the resize process."
      ],
      "metadata": {
        "id": "7nI5uNGwdCW3"
      },
      "id": "7nI5uNGwdCW3"
    },
    {
      "cell_type": "code",
      "source": [
        "import math\n",
        "import os\n",
        "import cv2\n",
        "import torchvision.transforms as transforms\n",
        "from Dataset import Dataset\n",
        "from data_loading import open_preprocess_photos"
      ],
      "metadata": {
        "id": "zxHmIKR2ctjW"
      },
      "id": "zxHmIKR2ctjW",
      "execution_count": 8,
      "outputs": []
    },
    {
      "cell_type": "code",
      "source": [
        "normal_dir: str = r'./data/chest_xray/test/NORMAL'\n",
        "pneumo_dir: str = r'./data/chest_xray/test/PNEUMONIA'\n",
        "\n",
        "assert os.path.exists(normal_dir) and os.path.isdir(normal_dir), \"Normal dir isn't found or isn't a directory\"\n",
        "assert os.path.exists(pneumo_dir) and os.path.isdir(pneumo_dir), \"Pneumonia dir isn't found or isn't a directory\""
      ],
      "metadata": {
        "id": "eQIBIj9DdOzf"
      },
      "id": "eQIBIj9DdOzf",
      "execution_count": 9,
      "outputs": []
    },
    {
      "cell_type": "code",
      "source": [
        "normalize = transforms.Normalize(mean=[0.485, 0.456, 0.406], std=[0.229, 0.224, 0.225])\n",
        "\n",
        "transform = transforms.Compose([\n",
        "    transforms.ToTensor(),\n",
        "    normalize,\n",
        "])"
      ],
      "metadata": {
        "id": "kQGm2Ghv-V_N"
      },
      "id": "kQGm2Ghv-V_N",
      "execution_count": 10,
      "outputs": []
    },
    {
      "cell_type": "code",
      "source": [
        "normal = open_preprocess_photos(normal_dir, transform, (224, 224))\n",
        "pneumonia = open_preprocess_photos(pneumo_dir, transform, (224, 224))"
      ],
      "metadata": {
        "id": "IPn65rOq-Oao"
      },
      "id": "IPn65rOq-Oao",
      "execution_count": 11,
      "outputs": []
    },
    {
      "cell_type": "code",
      "source": [
        "dataset = Dataset(normal, pneumonia, 0, 1, 128)"
      ],
      "metadata": {
        "id": "k-HjkrLq-3XQ"
      },
      "id": "k-HjkrLq-3XQ",
      "execution_count": 12,
      "outputs": []
    },
    {
      "cell_type": "code",
      "source": [
        "dataset[0][0].shape  # Should be as big as the given batch_size, so 128"
      ],
      "metadata": {
        "id": "wxCXfEka-8Kq",
        "outputId": "873064d2-23e1-462d-b106-e7c2d64b428e",
        "colab": {
          "base_uri": "https://localhost:8080/"
        }
      },
      "id": "wxCXfEka-8Kq",
      "execution_count": 13,
      "outputs": [
        {
          "output_type": "execute_result",
          "data": {
            "text/plain": [
              "torch.Size([128, 3, 224, 224])"
            ]
          },
          "metadata": {},
          "execution_count": 13
        }
      ]
    },
    {
      "cell_type": "markdown",
      "source": [
        "## Training"
      ],
      "metadata": {
        "id": "RQQHnlHifMic"
      },
      "id": "RQQHnlHifMic"
    },
    {
      "cell_type": "code",
      "source": [
        "lr=1e-2\n",
        "momentum=0.9\n",
        "batch_size=1024\n",
        "\n",
        "optimizer = torch.optim.SGD(model.parameters(), lr, momentum)\n",
        "criterion = torch.nn.BCELoss()              # Check for data imbalance if weight is needed"
      ],
      "metadata": {
        "id": "53zGwbrnhgiZ"
      },
      "id": "53zGwbrnhgiZ",
      "execution_count": 14,
      "outputs": []
    },
    {
      "cell_type": "code",
      "source": [
        "temp = dataset[0][0].clone().to(device)"
      ],
      "metadata": {
        "id": "WkcI29Nlwk28"
      },
      "id": "WkcI29Nlwk28",
      "execution_count": 15,
      "outputs": []
    },
    {
      "cell_type": "code",
      "source": [
        "store = model.forward(temp)"
      ],
      "metadata": {
        "id": "YkRTWi59uQMP"
      },
      "id": "YkRTWi59uQMP",
      "execution_count": 17,
      "outputs": []
    },
    {
      "cell_type": "code",
      "source": [
        "del(store)"
      ],
      "metadata": {
        "id": "xK4CXjkAkRMN"
      },
      "id": "xK4CXjkAkRMN",
      "execution_count": 18,
      "outputs": []
    },
    {
      "cell_type": "code",
      "source": [
        "store"
      ],
      "metadata": {
        "id": "hnYkUHNtASl7",
        "outputId": "e08a3c8a-c78e-46f8-e7f3-89ce2448292e",
        "colab": {
          "base_uri": "https://localhost:8080/"
        }
      },
      "id": "hnYkUHNtASl7",
      "execution_count": 18,
      "outputs": [
        {
          "output_type": "execute_result",
          "data": {
            "text/plain": [
              "tensor([[0.6752],\n",
              "        [0.7288],\n",
              "        [0.6271],\n",
              "        [0.7372],\n",
              "        [0.6037],\n",
              "        [0.4924],\n",
              "        [0.6377],\n",
              "        [0.6962],\n",
              "        [0.6178],\n",
              "        [0.4839],\n",
              "        [0.6776],\n",
              "        [0.5733],\n",
              "        [0.5997],\n",
              "        [0.5323],\n",
              "        [0.6604],\n",
              "        [0.5117],\n",
              "        [0.6650],\n",
              "        [0.5396],\n",
              "        [0.5680],\n",
              "        [0.5624],\n",
              "        [0.5228],\n",
              "        [0.6980],\n",
              "        [0.6853],\n",
              "        [0.5211],\n",
              "        [0.5718],\n",
              "        [0.4978],\n",
              "        [0.4817],\n",
              "        [0.6788],\n",
              "        [0.6544],\n",
              "        [0.6269],\n",
              "        [0.5570],\n",
              "        [0.7462],\n",
              "        [0.5467],\n",
              "        [0.6230],\n",
              "        [0.5593],\n",
              "        [0.5484],\n",
              "        [0.6570],\n",
              "        [0.5644],\n",
              "        [0.5614],\n",
              "        [0.6412],\n",
              "        [0.6092],\n",
              "        [0.6294],\n",
              "        [0.5272],\n",
              "        [0.7506],\n",
              "        [0.4764],\n",
              "        [0.6761],\n",
              "        [0.6091],\n",
              "        [0.5942],\n",
              "        [0.6198],\n",
              "        [0.4625],\n",
              "        [0.7501],\n",
              "        [0.4322],\n",
              "        [0.6099],\n",
              "        [0.6341],\n",
              "        [0.6706],\n",
              "        [0.6598],\n",
              "        [0.5221],\n",
              "        [0.5200],\n",
              "        [0.7344],\n",
              "        [0.4990],\n",
              "        [0.7375],\n",
              "        [0.5914],\n",
              "        [0.5953],\n",
              "        [0.5026],\n",
              "        [0.6510],\n",
              "        [0.4916],\n",
              "        [0.5635],\n",
              "        [0.7303],\n",
              "        [0.6331],\n",
              "        [0.6707],\n",
              "        [0.5047],\n",
              "        [0.6506],\n",
              "        [0.6581],\n",
              "        [0.4206],\n",
              "        [0.5374],\n",
              "        [0.6662],\n",
              "        [0.6297],\n",
              "        [0.5850],\n",
              "        [0.5194],\n",
              "        [0.5273],\n",
              "        [0.6094],\n",
              "        [0.5353],\n",
              "        [0.6255],\n",
              "        [0.5385],\n",
              "        [0.7493],\n",
              "        [0.5490],\n",
              "        [0.5266],\n",
              "        [0.6954],\n",
              "        [0.5865],\n",
              "        [0.5031],\n",
              "        [0.5153],\n",
              "        [0.4523],\n",
              "        [0.7517],\n",
              "        [0.6633],\n",
              "        [0.5682],\n",
              "        [0.4683],\n",
              "        [0.4473],\n",
              "        [0.5040],\n",
              "        [0.6899],\n",
              "        [0.4657],\n",
              "        [0.6977],\n",
              "        [0.6736],\n",
              "        [0.5986],\n",
              "        [0.7146],\n",
              "        [0.5486],\n",
              "        [0.4672],\n",
              "        [0.6812],\n",
              "        [0.6714],\n",
              "        [0.5096],\n",
              "        [0.4317],\n",
              "        [0.4682],\n",
              "        [0.6625],\n",
              "        [0.5984],\n",
              "        [0.5200],\n",
              "        [0.6191],\n",
              "        [0.6119],\n",
              "        [0.5729],\n",
              "        [0.4208],\n",
              "        [0.7333],\n",
              "        [0.3566],\n",
              "        [0.3465],\n",
              "        [0.6638],\n",
              "        [0.6412],\n",
              "        [0.5242],\n",
              "        [0.6272],\n",
              "        [0.5626],\n",
              "        [0.6483],\n",
              "        [0.4881]], device='cuda:0', grad_fn=<SigmoidBackward0>)"
            ]
          },
          "metadata": {},
          "execution_count": 18
        }
      ]
    },
    {
      "cell_type": "code",
      "source": [],
      "metadata": {
        "id": "-ROt_sF_B0sC"
      },
      "id": "-ROt_sF_B0sC",
      "execution_count": null,
      "outputs": []
    }
  ],
  "metadata": {
    "kernelspec": {
      "display_name": "Python 3",
      "name": "python3"
    },
    "language_info": {
      "codemirror_mode": {
        "name": "ipython",
        "version": 2
      },
      "file_extension": ".py",
      "mimetype": "text/x-python",
      "name": "python",
      "nbconvert_exporter": "python",
      "pygments_lexer": "ipython2",
      "version": "2.7.6"
    },
    "colab": {
      "provenance": [],
      "gpuType": "T4"
    },
    "accelerator": "GPU"
  },
  "nbformat": 4,
  "nbformat_minor": 5
}