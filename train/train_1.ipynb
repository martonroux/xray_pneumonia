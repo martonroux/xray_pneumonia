{
  "cells": [
    {
      "cell_type": "markdown",
      "source": [
        "# First test\n",
        "\n",
        "In this file, we do not apply any transformations to the data. We only rescale images and pass them through a pretrained CNN model.\n",
        "The objective is to determine whether a pretrained model is already capable of finding relevant information in these images, without transforming them, and in 224x224."
      ],
      "metadata": {
        "collapsed": false,
        "id": "b603c5bd69f12647"
      },
      "id": "b603c5bd69f12647"
    },
    {
      "cell_type": "markdown",
      "source": [
        "## Import Dataset from Kaggle"
      ],
      "metadata": {
        "id": "dy_KZ82pbrwJ"
      },
      "id": "dy_KZ82pbrwJ"
    },
    {
      "cell_type": "code",
      "source": [
        "! pip install -q kaggle"
      ],
      "metadata": {
        "id": "vrSGarVrZyNQ"
      },
      "id": "vrSGarVrZyNQ",
      "execution_count": 3,
      "outputs": []
    },
    {
      "cell_type": "code",
      "source": [
        "from google.colab import files"
      ],
      "metadata": {
        "id": "BairTiGVZ0Sx"
      },
      "id": "BairTiGVZ0Sx",
      "execution_count": 4,
      "outputs": []
    },
    {
      "cell_type": "code",
      "source": [
        "files.upload()"
      ],
      "metadata": {
        "id": "cG5pUPSlZ4wJ",
        "outputId": "e0cc59df-88ce-4000-8870-3acdb697f2f4",
        "colab": {
          "base_uri": "https://localhost:8080/",
          "height": 91
        }
      },
      "id": "cG5pUPSlZ4wJ",
      "execution_count": 5,
      "outputs": [
        {
          "output_type": "display_data",
          "data": {
            "text/plain": [
              "<IPython.core.display.HTML object>"
            ],
            "text/html": [
              "\n",
              "     <input type=\"file\" id=\"files-48889d58-addd-49ac-b8fc-aa64f71b92ae\" name=\"files[]\" multiple disabled\n",
              "        style=\"border:none\" />\n",
              "     <output id=\"result-48889d58-addd-49ac-b8fc-aa64f71b92ae\">\n",
              "      Upload widget is only available when the cell has been executed in the\n",
              "      current browser session. Please rerun this cell to enable.\n",
              "      </output>\n",
              "      <script>// Copyright 2017 Google LLC\n",
              "//\n",
              "// Licensed under the Apache License, Version 2.0 (the \"License\");\n",
              "// you may not use this file except in compliance with the License.\n",
              "// You may obtain a copy of the License at\n",
              "//\n",
              "//      http://www.apache.org/licenses/LICENSE-2.0\n",
              "//\n",
              "// Unless required by applicable law or agreed to in writing, software\n",
              "// distributed under the License is distributed on an \"AS IS\" BASIS,\n",
              "// WITHOUT WARRANTIES OR CONDITIONS OF ANY KIND, either express or implied.\n",
              "// See the License for the specific language governing permissions and\n",
              "// limitations under the License.\n",
              "\n",
              "/**\n",
              " * @fileoverview Helpers for google.colab Python module.\n",
              " */\n",
              "(function(scope) {\n",
              "function span(text, styleAttributes = {}) {\n",
              "  const element = document.createElement('span');\n",
              "  element.textContent = text;\n",
              "  for (const key of Object.keys(styleAttributes)) {\n",
              "    element.style[key] = styleAttributes[key];\n",
              "  }\n",
              "  return element;\n",
              "}\n",
              "\n",
              "// Max number of bytes which will be uploaded at a time.\n",
              "const MAX_PAYLOAD_SIZE = 100 * 1024;\n",
              "\n",
              "function _uploadFiles(inputId, outputId) {\n",
              "  const steps = uploadFilesStep(inputId, outputId);\n",
              "  const outputElement = document.getElementById(outputId);\n",
              "  // Cache steps on the outputElement to make it available for the next call\n",
              "  // to uploadFilesContinue from Python.\n",
              "  outputElement.steps = steps;\n",
              "\n",
              "  return _uploadFilesContinue(outputId);\n",
              "}\n",
              "\n",
              "// This is roughly an async generator (not supported in the browser yet),\n",
              "// where there are multiple asynchronous steps and the Python side is going\n",
              "// to poll for completion of each step.\n",
              "// This uses a Promise to block the python side on completion of each step,\n",
              "// then passes the result of the previous step as the input to the next step.\n",
              "function _uploadFilesContinue(outputId) {\n",
              "  const outputElement = document.getElementById(outputId);\n",
              "  const steps = outputElement.steps;\n",
              "\n",
              "  const next = steps.next(outputElement.lastPromiseValue);\n",
              "  return Promise.resolve(next.value.promise).then((value) => {\n",
              "    // Cache the last promise value to make it available to the next\n",
              "    // step of the generator.\n",
              "    outputElement.lastPromiseValue = value;\n",
              "    return next.value.response;\n",
              "  });\n",
              "}\n",
              "\n",
              "/**\n",
              " * Generator function which is called between each async step of the upload\n",
              " * process.\n",
              " * @param {string} inputId Element ID of the input file picker element.\n",
              " * @param {string} outputId Element ID of the output display.\n",
              " * @return {!Iterable<!Object>} Iterable of next steps.\n",
              " */\n",
              "function* uploadFilesStep(inputId, outputId) {\n",
              "  const inputElement = document.getElementById(inputId);\n",
              "  inputElement.disabled = false;\n",
              "\n",
              "  const outputElement = document.getElementById(outputId);\n",
              "  outputElement.innerHTML = '';\n",
              "\n",
              "  const pickedPromise = new Promise((resolve) => {\n",
              "    inputElement.addEventListener('change', (e) => {\n",
              "      resolve(e.target.files);\n",
              "    });\n",
              "  });\n",
              "\n",
              "  const cancel = document.createElement('button');\n",
              "  inputElement.parentElement.appendChild(cancel);\n",
              "  cancel.textContent = 'Cancel upload';\n",
              "  const cancelPromise = new Promise((resolve) => {\n",
              "    cancel.onclick = () => {\n",
              "      resolve(null);\n",
              "    };\n",
              "  });\n",
              "\n",
              "  // Wait for the user to pick the files.\n",
              "  const files = yield {\n",
              "    promise: Promise.race([pickedPromise, cancelPromise]),\n",
              "    response: {\n",
              "      action: 'starting',\n",
              "    }\n",
              "  };\n",
              "\n",
              "  cancel.remove();\n",
              "\n",
              "  // Disable the input element since further picks are not allowed.\n",
              "  inputElement.disabled = true;\n",
              "\n",
              "  if (!files) {\n",
              "    return {\n",
              "      response: {\n",
              "        action: 'complete',\n",
              "      }\n",
              "    };\n",
              "  }\n",
              "\n",
              "  for (const file of files) {\n",
              "    const li = document.createElement('li');\n",
              "    li.append(span(file.name, {fontWeight: 'bold'}));\n",
              "    li.append(span(\n",
              "        `(${file.type || 'n/a'}) - ${file.size} bytes, ` +\n",
              "        `last modified: ${\n",
              "            file.lastModifiedDate ? file.lastModifiedDate.toLocaleDateString() :\n",
              "                                    'n/a'} - `));\n",
              "    const percent = span('0% done');\n",
              "    li.appendChild(percent);\n",
              "\n",
              "    outputElement.appendChild(li);\n",
              "\n",
              "    const fileDataPromise = new Promise((resolve) => {\n",
              "      const reader = new FileReader();\n",
              "      reader.onload = (e) => {\n",
              "        resolve(e.target.result);\n",
              "      };\n",
              "      reader.readAsArrayBuffer(file);\n",
              "    });\n",
              "    // Wait for the data to be ready.\n",
              "    let fileData = yield {\n",
              "      promise: fileDataPromise,\n",
              "      response: {\n",
              "        action: 'continue',\n",
              "      }\n",
              "    };\n",
              "\n",
              "    // Use a chunked sending to avoid message size limits. See b/62115660.\n",
              "    let position = 0;\n",
              "    do {\n",
              "      const length = Math.min(fileData.byteLength - position, MAX_PAYLOAD_SIZE);\n",
              "      const chunk = new Uint8Array(fileData, position, length);\n",
              "      position += length;\n",
              "\n",
              "      const base64 = btoa(String.fromCharCode.apply(null, chunk));\n",
              "      yield {\n",
              "        response: {\n",
              "          action: 'append',\n",
              "          file: file.name,\n",
              "          data: base64,\n",
              "        },\n",
              "      };\n",
              "\n",
              "      let percentDone = fileData.byteLength === 0 ?\n",
              "          100 :\n",
              "          Math.round((position / fileData.byteLength) * 100);\n",
              "      percent.textContent = `${percentDone}% done`;\n",
              "\n",
              "    } while (position < fileData.byteLength);\n",
              "  }\n",
              "\n",
              "  // All done.\n",
              "  yield {\n",
              "    response: {\n",
              "      action: 'complete',\n",
              "    }\n",
              "  };\n",
              "}\n",
              "\n",
              "scope.google = scope.google || {};\n",
              "scope.google.colab = scope.google.colab || {};\n",
              "scope.google.colab._files = {\n",
              "  _uploadFiles,\n",
              "  _uploadFilesContinue,\n",
              "};\n",
              "})(self);\n",
              "</script> "
            ]
          },
          "metadata": {}
        },
        {
          "output_type": "stream",
          "name": "stdout",
          "text": [
            "Saving kaggle.json to kaggle.json\n"
          ]
        },
        {
          "output_type": "execute_result",
          "data": {
            "text/plain": [
              "{'kaggle.json': b'{\"username\":\"martonroux\",\"key\":\"879f3ccc54442ff9fdc69b1b07a25313\"}'}"
            ]
          },
          "metadata": {},
          "execution_count": 5
        }
      ]
    },
    {
      "cell_type": "code",
      "source": [
        "! mkdir ~/.kaggle"
      ],
      "metadata": {
        "id": "BeASqa7BaHh9"
      },
      "id": "BeASqa7BaHh9",
      "execution_count": 6,
      "outputs": []
    },
    {
      "cell_type": "code",
      "source": [
        "! cp kaggle.json ~/.kaggle/"
      ],
      "metadata": {
        "id": "7X_0tCTvaJuX"
      },
      "id": "7X_0tCTvaJuX",
      "execution_count": 7,
      "outputs": []
    },
    {
      "cell_type": "code",
      "source": [
        "! chmod 600 ~/.kaggle/kaggle.json"
      ],
      "metadata": {
        "id": "ZDd_MCbvaZk6"
      },
      "id": "ZDd_MCbvaZk6",
      "execution_count": 9,
      "outputs": []
    },
    {
      "cell_type": "code",
      "source": [
        "! kaggle datasets list"
      ],
      "metadata": {
        "id": "08fBdxE-ajw2"
      },
      "id": "08fBdxE-ajw2",
      "execution_count": null,
      "outputs": []
    },
    {
      "cell_type": "code",
      "source": [
        "! kaggle datasets download -d paultimothymooney/chest-xray-pneumonia"
      ],
      "metadata": {
        "id": "IaTimo2YarUy"
      },
      "id": "IaTimo2YarUy",
      "execution_count": null,
      "outputs": []
    },
    {
      "cell_type": "code",
      "source": [
        "! unzip chest-xray-pneumonia.zip -d data/"
      ],
      "metadata": {
        "id": "m3Ou5AWBbAQX"
      },
      "id": "m3Ou5AWBbAQX",
      "execution_count": null,
      "outputs": []
    },
    {
      "cell_type": "markdown",
      "source": [
        "## Load model"
      ],
      "metadata": {
        "id": "JPydo_twbu-C"
      },
      "id": "JPydo_twbu-C"
    },
    {
      "cell_type": "code",
      "execution_count": 13,
      "id": "initial_id",
      "metadata": {
        "collapsed": true,
        "ExecuteTime": {
          "end_time": "2024-02-22T14:55:38.201949Z",
          "start_time": "2024-02-22T14:55:38.198214Z"
        },
        "id": "initial_id"
      },
      "outputs": [],
      "source": [
        "from torchvision.models import resnet50, ResNet50_Weights\n",
        "import torch"
      ]
    },
    {
      "cell_type": "code",
      "outputs": [],
      "source": [
        "pretrained = resnet50(weights=ResNet50_Weights.IMAGENET1K_V2)"
      ],
      "metadata": {
        "ExecuteTime": {
          "end_time": "2024-02-22T14:56:31.555413Z",
          "start_time": "2024-02-22T14:55:59.871139Z"
        },
        "id": "9e49866fec32f447"
      },
      "id": "9e49866fec32f447",
      "execution_count": 14
    },
    {
      "cell_type": "code",
      "outputs": [],
      "source": [
        "pretrained.fc = torch.nn.Identity()\n",
        "pretrained.avgpool = torch.nn.Identity()"
      ],
      "metadata": {
        "ExecuteTime": {
          "end_time": "2024-02-22T14:56:49.868832Z",
          "start_time": "2024-02-22T14:56:49.865367Z"
        },
        "id": "3986ae0d99e82749"
      },
      "id": "3986ae0d99e82749",
      "execution_count": 15
    },
    {
      "cell_type": "code",
      "outputs": [],
      "source": [
        "class Model(torch.nn.Module):\n",
        "    def __init__(self, pretrained):\n",
        "        super(Model, self).__init__()\n",
        "        self.pretrained = pretrained\n",
        "        self.linear1 = torch.nn.Linear(224*224*2, 10000)\n",
        "        self.linear2 = torch.nn.Linear(10000, 1)\n",
        "        self.sigmoid = torch.nn.Sigmoid()\n",
        "\n",
        "    def forward(self, x):\n",
        "        x = self.pretrained(x)\n",
        "        for (i, batch) in enumerate(x):\n",
        "          xtemp = self.linear1(batch)\n",
        "          xtemp = self.linear2(xtemp)\n",
        "          xtemp = self.sigmoid(xtemp)\n",
        "          x[i] = xtemp\n",
        "        return x"
      ],
      "metadata": {
        "id": "bc1172f3102d9723"
      },
      "id": "bc1172f3102d9723",
      "execution_count": 99
    },
    {
      "cell_type": "code",
      "outputs": [],
      "source": [
        "model = Model(pretrained)"
      ],
      "metadata": {
        "ExecuteTime": {
          "end_time": "2024-02-22T14:59:37.081173Z",
          "start_time": "2024-02-22T14:59:37.076418Z"
        },
        "id": "f9b07e53f2ab77b2"
      },
      "id": "f9b07e53f2ab77b2",
      "execution_count": 100
    },
    {
      "cell_type": "code",
      "outputs": [],
      "source": [
        "device = torch.device(\"cuda:0\" if torch.cuda.is_available() else \"cpu\")"
      ],
      "metadata": {
        "id": "b67892757aa2e826"
      },
      "id": "b67892757aa2e826",
      "execution_count": 101
    },
    {
      "cell_type": "code",
      "source": [
        "model = model.to(device)"
      ],
      "metadata": {
        "id": "Pset2Yj0cUwW"
      },
      "id": "Pset2Yj0cUwW",
      "execution_count": 102,
      "outputs": []
    },
    {
      "cell_type": "markdown",
      "source": [
        "## Load Data"
      ],
      "metadata": {
        "id": "7nI5uNGwdCW3"
      },
      "id": "7nI5uNGwdCW3"
    },
    {
      "cell_type": "code",
      "source": [
        "import math\n",
        "import os\n",
        "import cv2\n",
        "import torchvision.transforms as transforms"
      ],
      "metadata": {
        "id": "zxHmIKR2ctjW"
      },
      "id": "zxHmIKR2ctjW",
      "execution_count": 36,
      "outputs": []
    },
    {
      "cell_type": "code",
      "source": [
        "data_dir = r'./data/chest_xray/test/NORMAL'\n",
        "\n",
        "assert os.path.exists(data_dir) and os.path.isdir(data_dir), \"data dir does not exist\""
      ],
      "metadata": {
        "id": "eQIBIj9DdOzf"
      },
      "id": "eQIBIj9DdOzf",
      "execution_count": 25,
      "outputs": []
    },
    {
      "cell_type": "code",
      "source": [
        "img_list = os.listdir(data_dir)\n",
        "img_list = list(map(lambda path: os.path.join(data_dir, path), img_list))\n",
        "img_list.sort()"
      ],
      "metadata": {
        "id": "xFpn5u7EdXnK"
      },
      "id": "xFpn5u7EdXnK",
      "execution_count": 27,
      "outputs": []
    },
    {
      "cell_type": "markdown",
      "source": [
        "## Preprocess"
      ],
      "metadata": {
        "id": "w2oAURORdgDm"
      },
      "id": "w2oAURORdgDm"
    },
    {
      "cell_type": "markdown",
      "source": [
        "In this test, the only preprocess applied is a resize to match the 224 x 224 x 3 size without breaking the aspect ratio, and a normalization of values."
      ],
      "metadata": {
        "id": "OMl6Jsz6eCdP"
      },
      "id": "OMl6Jsz6eCdP"
    },
    {
      "cell_type": "code",
      "source": [
        "images = []\n",
        "\n",
        "for img in img_list:\n",
        "    img_data = cv2.imread(img)\n",
        "    shape = img_data.shape\n",
        "\n",
        "    if shape[0] > shape[1]:\n",
        "        diff = shape[0] - shape[1]\n",
        "        padding = int(math.ceil(diff / 2))\n",
        "        img_data = img_data[padding : shape[0] - padding, :, :]\n",
        "    else:\n",
        "        diff = shape[1] - shape[0]\n",
        "        padding = int(math.ceil(diff / 2))\n",
        "        img_data = img_data[:, padding : shape[1] - padding, :]\n",
        "    img_data = cv2.resize(img_data, (224, 224))\n",
        "    images.append(img_data)"
      ],
      "metadata": {
        "id": "Mh_DPqqGdZT-"
      },
      "id": "Mh_DPqqGdZT-",
      "execution_count": 30,
      "outputs": []
    },
    {
      "cell_type": "code",
      "source": [
        "images[0].shape"
      ],
      "metadata": {
        "id": "-owORJ2Ydbpw",
        "outputId": "93e1b851-0e10-4550-b64d-b1841bf9059a",
        "colab": {
          "base_uri": "https://localhost:8080/"
        }
      },
      "id": "-owORJ2Ydbpw",
      "execution_count": 35,
      "outputs": [
        {
          "output_type": "execute_result",
          "data": {
            "text/plain": [
              "(224, 224, 3)"
            ]
          },
          "metadata": {},
          "execution_count": 35
        }
      ]
    },
    {
      "cell_type": "markdown",
      "source": [
        "Convert to Tensor and normalize values"
      ],
      "metadata": {
        "id": "WOSIy5Iseq6w"
      },
      "id": "WOSIy5Iseq6w"
    },
    {
      "cell_type": "code",
      "source": [
        "normalize = transforms.Normalize(mean=[0.485, 0.456, 0.406], std=[0.229, 0.224, 0.225])\n",
        "\n",
        "transform = transforms.Compose([\n",
        "    transforms.ToTensor(),\n",
        "    normalize,\n",
        "])"
      ],
      "metadata": {
        "id": "V-VVNqJRd19v"
      },
      "id": "V-VVNqJRd19v",
      "execution_count": 37,
      "outputs": []
    },
    {
      "cell_type": "code",
      "source": [
        "dataset = []\n",
        "\n",
        "for img in images:\n",
        "  dataset.append(transform(img))"
      ],
      "metadata": {
        "id": "RjHxMO1ne0Yb"
      },
      "id": "RjHxMO1ne0Yb",
      "execution_count": 38,
      "outputs": []
    },
    {
      "cell_type": "markdown",
      "source": [
        "## Training"
      ],
      "metadata": {
        "id": "RQQHnlHifMic"
      },
      "id": "RQQHnlHifMic"
    },
    {
      "cell_type": "code",
      "source": [
        "model.forward(dataset[0].to(device).unsqueeze(0))"
      ],
      "metadata": {
        "id": "NfYwsthLe_Hn",
        "outputId": "b13860d9-bc40-4c93-973a-fcf040e2097d",
        "colab": {
          "base_uri": "https://localhost:8080/"
        }
      },
      "id": "NfYwsthLe_Hn",
      "execution_count": 103,
      "outputs": [
        {
          "output_type": "execute_result",
          "data": {
            "text/plain": [
              "tensor([[0.5977, 0.5977, 0.5977,  ..., 0.5977, 0.5977, 0.5977]],\n",
              "       device='cuda:0', grad_fn=<AsStridedBackward0>)"
            ]
          },
          "metadata": {},
          "execution_count": 103
        }
      ]
    },
    {
      "cell_type": "code",
      "source": [
        "lr=1e-2\n",
        "momentum=0.9\n",
        "\n",
        "optimizer = torch.optim.SGD(model.parameters(), lr, momentum)\n",
        "criterion = torch.nn.BCELoss()              # Check for data imbalance if weight is needed"
      ],
      "metadata": {
        "id": "53zGwbrnhgiZ"
      },
      "id": "53zGwbrnhgiZ",
      "execution_count": 104,
      "outputs": []
    },
    {
      "cell_type": "code",
      "source": [
        "! git status"
      ],
      "metadata": {
        "id": "qof1tUgIkGrb",
        "outputId": "c8c04ec7-e662-4463-da22-40e1a51db6c9",
        "colab": {
          "base_uri": "https://localhost:8080/"
        }
      },
      "id": "qof1tUgIkGrb",
      "execution_count": 106,
      "outputs": [
        {
          "output_type": "stream",
          "name": "stdout",
          "text": [
            "fatal: not a git repository (or any of the parent directories): .git\n"
          ]
        }
      ]
    },
    {
      "cell_type": "code",
      "source": [],
      "metadata": {
        "id": "xK4CXjkAkRMN"
      },
      "id": "xK4CXjkAkRMN",
      "execution_count": null,
      "outputs": []
    }
  ],
  "metadata": {
    "kernelspec": {
      "display_name": "Python 3",
      "name": "python3"
    },
    "language_info": {
      "codemirror_mode": {
        "name": "ipython",
        "version": 2
      },
      "file_extension": ".py",
      "mimetype": "text/x-python",
      "name": "python",
      "nbconvert_exporter": "python",
      "pygments_lexer": "ipython2",
      "version": "2.7.6"
    },
    "colab": {
      "provenance": [],
      "gpuType": "T4"
    },
    "accelerator": "GPU"
  },
  "nbformat": 4,
  "nbformat_minor": 5
}