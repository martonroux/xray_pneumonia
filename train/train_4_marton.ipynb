{
 "cells": [
  {
   "cell_type": "code",
   "id": "initial_id",
   "metadata": {
    "collapsed": true,
    "ExecuteTime": {
     "end_time": "2024-05-16T21:52:43.662992Z",
     "start_time": "2024-05-16T21:52:42.749855Z"
    }
   },
   "source": [
    "import os\n",
    "from torchvision import transforms\n",
    "from Dataset import Dataset\n",
    "from data_loading import open_preprocess_photos, open_preprocess_photos_flip\n",
    "from typing import List"
   ],
   "outputs": [],
   "execution_count": 1
  },
  {
   "metadata": {},
   "cell_type": "markdown",
   "source": "# Model",
   "id": "3d4f06efe723b0b3"
  },
  {
   "metadata": {
    "ExecuteTime": {
     "end_time": "2024-05-16T21:53:10.673452Z",
     "start_time": "2024-05-16T21:53:10.493098Z"
    }
   },
   "cell_type": "code",
   "source": [
    "from torchvision.models import resnet34, ResNet34_Weights, maxvit_t, MaxVit_T_Weights\n",
    "import torch\n",
    "\n",
    "resnet = resnet34(weights=ResNet34_Weights.IMAGENET1K_V1)\n",
    "#maxvit = maxvit_t(weights=MaxVit_T_Weights.IMAGENET1K_V1)"
   ],
   "id": "ae4fc8e47d582b96",
   "outputs": [],
   "execution_count": 2
  },
  {
   "metadata": {
    "ExecuteTime": {
     "end_time": "2024-05-16T21:53:17.307584Z",
     "start_time": "2024-05-16T21:53:17.260647Z"
    }
   },
   "cell_type": "code",
   "source": [
    "#maxvit.classifier = torch.nn.Identity()\n",
    "resnet.fc = torch.nn.Identity()\n",
    "\n",
    "device = torch.device(\"cuda:0\" if torch.cuda.is_available() else \"cpu\")"
   ],
   "id": "6db118d7ce84e5ea",
   "outputs": [],
   "execution_count": 3
  },
  {
   "metadata": {},
   "cell_type": "markdown",
   "source": "# Data",
   "id": "5b425ae390ae51c6"
  },
  {
   "metadata": {
    "ExecuteTime": {
     "end_time": "2024-05-16T21:53:21.299407Z",
     "start_time": "2024-05-16T21:53:21.296668Z"
    }
   },
   "cell_type": "code",
   "source": [
    "normalize = transforms.Normalize(mean=[0.485, 0.456, 0.406], std=[0.229, 0.224, 0.225])\n",
    "transform = transforms.Compose([\n",
    "    transforms.ToTensor(),\n",
    "    normalize,\n",
    "])"
   ],
   "id": "b6126e30fc099b3f",
   "outputs": [],
   "execution_count": 4
  },
  {
   "metadata": {
    "ExecuteTime": {
     "end_time": "2024-05-16T21:46:45.422265Z",
     "start_time": "2024-05-16T21:46:08.708001Z"
    }
   },
   "cell_type": "code",
   "source": [
    "normal_dir: str = r'../chest_xray/train/NORMAL'\n",
    "pneumo_dir: str = r'../chest_xray/train/PNEUMONIA'\n",
    "\n",
    "assert os.path.exists(normal_dir) and os.path.isdir(normal_dir), \"Normal dir isn't found or isn't a directory\"\n",
    "assert os.path.exists(pneumo_dir) and os.path.isdir(pneumo_dir), \"Pneumonia dir isn't found or isn't a directory\"\n",
    "\n",
    "normal = open_preprocess_photos_flip(normal_dir, transform, (224, 224))\n",
    "pneumonia = open_preprocess_photos(pneumo_dir, transform, (224, 224))\n",
    "\n",
    "dataset_train = Dataset(normal, pneumonia[:len(normal)], 0, 1, 64)"
   ],
   "id": "8324d205b9e14169",
   "outputs": [],
   "execution_count": 5
  },
  {
   "metadata": {
    "ExecuteTime": {
     "end_time": "2024-05-16T21:53:26.674177Z",
     "start_time": "2024-05-16T21:53:23.324148Z"
    }
   },
   "cell_type": "code",
   "source": [
    "normal_dir_test: str = r'../chest_xray/test/NORMAL'\n",
    "pneumo_dir_test: str = r'../chest_xray/test/PNEUMONIA'\n",
    "\n",
    "assert os.path.exists(normal_dir_test) and os.path.isdir(normal_dir_test), \"Normal dir isn't found or isn't a directory\"\n",
    "assert os.path.exists(pneumo_dir_test) and os.path.isdir(pneumo_dir_test), \"Pneumonia dir isn't found or isn't a directory\"\n",
    "\n",
    "normal_test = open_preprocess_photos_flip(normal_dir_test, transform, (224, 224))\n",
    "pneumonia_test = open_preprocess_photos(pneumo_dir_test, transform, (224, 224))\n",
    "\n",
    "dataset_test = Dataset(normal_test, pneumonia_test[:len(normal_test)], 0, 1, 64)"
   ],
   "id": "65fb4d21f149aa7a",
   "outputs": [],
   "execution_count": 5
  },
  {
   "metadata": {
    "ExecuteTime": {
     "end_time": "2024-05-16T21:53:38.495941Z",
     "start_time": "2024-05-16T21:53:38.488402Z"
    }
   },
   "cell_type": "code",
   "source": [
    "resnet = resnet.to(device)\n",
    "#maxvit = maxvit.to(device)"
   ],
   "id": "c42dfce9047e8089",
   "outputs": [],
   "execution_count": 7
  },
  {
   "metadata": {
    "ExecuteTime": {
     "end_time": "2024-05-16T21:54:12.924591Z",
     "start_time": "2024-05-16T21:54:12.894297Z"
    }
   },
   "cell_type": "code",
   "source": "resnet(dataset_test[0][0].to(device)).shape",
   "id": "83294b1ff55de718",
   "outputs": [
    {
     "data": {
      "text/plain": [
       "torch.Size([64, 512])"
      ]
     },
     "execution_count": 9,
     "metadata": {},
     "output_type": "execute_result"
    }
   ],
   "execution_count": 9
  },
  {
   "metadata": {},
   "cell_type": "code",
   "outputs": [],
   "execution_count": null,
   "source": "",
   "id": "5bfb3c11a45c37fa"
  }
 ],
 "metadata": {
  "kernelspec": {
   "display_name": "Python 3",
   "language": "python",
   "name": "python3"
  },
  "language_info": {
   "codemirror_mode": {
    "name": "ipython",
    "version": 2
   },
   "file_extension": ".py",
   "mimetype": "text/x-python",
   "name": "python",
   "nbconvert_exporter": "python",
   "pygments_lexer": "ipython2",
   "version": "2.7.6"
  }
 },
 "nbformat": 4,
 "nbformat_minor": 5
}
